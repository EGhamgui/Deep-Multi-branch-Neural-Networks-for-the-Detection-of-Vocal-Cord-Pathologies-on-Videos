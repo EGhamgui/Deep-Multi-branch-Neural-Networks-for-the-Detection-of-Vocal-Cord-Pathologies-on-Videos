{
 "cells": [
  {
   "cell_type": "code",
   "execution_count": 11,
   "metadata": {},
   "outputs": [],
   "source": [
    "import pandas as pd\n",
    "from PIL import Image\n",
    "import os\n",
    "import numpy as np\n",
    "import matplotlib.pyplot as plt"
   ]
  },
  {
   "cell_type": "code",
   "execution_count": 12,
   "metadata": {},
   "outputs": [],
   "source": [
    "Path1 = 'C:/Users/USER/Desktop/stage ing/Stage ing partie 5/data_image/'\n",
    "Path2 = 'C:/Users/USER/Desktop/stage ing/Stage ing partie 5/Meanshift/' # C_1\\edge\n",
    "Path_out = 'C:/Users/USER/Desktop/stage ing/Stage ing partie 5/Meanshift/'"
   ]
  },
  {
   "cell_type": "code",
   "execution_count": 13,
   "metadata": {},
   "outputs": [],
   "source": [
    "for i in range(1,729):\n",
    "    \n",
    "    Path11 = Path1 + 'C_'+str(i) +'/'\n",
    "    Path22 = Path2 + 'C_'+str(i) +'/edge/'\n",
    "    Path_outt = Path_out + 'C_'+str(i) +'/new/'\n",
    "    \n",
    "    if Path_outt not in os.listdir(Path_out): \n",
    "        os.mkdir(Path_outt)\n",
    "    ll = os.listdir(Path11)\n",
    "    l2 = os.listdir(Path22)\n",
    "    for j in range (len(ll)):\n",
    "        image1 = Image.open(Path11 + ll[j])\n",
    "        image1=np.array(image1)\n",
    "        image2 = np.array(Image.open(Path22 + l2[j]))\n",
    "        s=image2.shape[0]\n",
    "        for k in range(s):\n",
    "            for l in range(s):\n",
    "                if image2[k,l]==255 :\n",
    "                    image1[k,l][0]=0\n",
    "                    image1[k,l][1]=255\n",
    "                    image1[k,l][2]=0\n",
    "        im = Image.fromarray(image1)\n",
    "        p= Path_outt + ll[j]\n",
    "        im.save(p)"
   ]
  }
 ],
 "metadata": {
  "kernelspec": {
   "display_name": "Python 3",
   "language": "python",
   "name": "python3"
  },
  "language_info": {
   "codemirror_mode": {
    "name": "ipython",
    "version": 3
   },
   "file_extension": ".py",
   "mimetype": "text/x-python",
   "name": "python",
   "nbconvert_exporter": "python",
   "pygments_lexer": "ipython3",
   "version": "3.7.6"
  }
 },
 "nbformat": 4,
 "nbformat_minor": 4
}
