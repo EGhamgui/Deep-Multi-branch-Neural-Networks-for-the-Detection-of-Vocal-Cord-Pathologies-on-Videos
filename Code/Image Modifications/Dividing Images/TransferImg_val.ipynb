{
 "cells": [
  {
   "cell_type": "markdown",
   "metadata": {},
   "source": [
    "---\n",
    "# <center> Divide the images of the validation data\n",
    "---"
   ]
  },
  {
   "cell_type": "markdown",
   "metadata": {},
   "source": [
    "## Import Libraries"
   ]
  },
  {
   "cell_type": "code",
   "execution_count": 1,
   "metadata": {},
   "outputs": [],
   "source": [
    "from PIL import Image\n",
    "import os"
   ]
  },
  {
   "cell_type": "code",
   "execution_count": 2,
   "metadata": {},
   "outputs": [
    {
     "name": "stdout",
     "output_type": "stream",
     "text": [
      "p_1\n",
      "p_2\n",
      "p_3\n",
      "p_4\n",
      "p_5\n",
      "p_6\n",
      "p_7\n",
      "p_8\n",
      "p_9\n",
      "p_10\n",
      "p_11\n",
      "p_12\n",
      "p_13\n",
      "p_14\n",
      "p_15\n",
      "p_16\n",
      "p_17\n",
      "p_18\n",
      "p_19\n",
      "p_20\n",
      "p_21\n",
      "p_22\n",
      "p_23\n",
      "p_24\n",
      "p_25\n",
      "p_26\n",
      "p_27\n",
      "p_28\n",
      "p_29\n",
      "p_30\n",
      "p_31\n",
      "p_32\n",
      "p_33\n",
      "p_34\n",
      "p_35\n",
      "p_36\n",
      "p_37\n",
      "p_38\n",
      "p_39\n",
      "p_40\n",
      "p_41\n",
      "p_42\n",
      "p_43\n",
      "p_44\n",
      "p_45\n",
      "p_46\n",
      "p_47\n",
      "p_48\n",
      "p_49\n",
      "p_50\n",
      "p_51\n",
      "p_52\n",
      "p_53\n",
      "p_54\n",
      "p_55\n",
      "p_56\n",
      "p_57\n",
      "p_58\n",
      "p_59\n",
      "p_60\n",
      "p_61\n",
      "p_62\n",
      "p_63\n",
      "p_64\n",
      "p_65\n",
      "p_66\n",
      "p_67\n",
      "p_68\n",
      "p_69\n",
      "p_70\n",
      "p_71\n",
      "p_72\n",
      "p_73\n",
      "p_74\n",
      "p_75\n",
      "p_76\n",
      "p_77\n",
      "p_78\n",
      "p_79\n",
      "p_80\n",
      "p_81\n",
      "p_82\n",
      "p_83\n",
      "p_84\n",
      "p_85\n",
      "p_86\n",
      "p_87\n",
      "p_88\n",
      "p_89\n",
      "p_90\n",
      "p_91\n",
      "p_92\n",
      "p_93\n",
      "p_94\n",
      "p_95\n",
      "p_96\n",
      "p_97\n",
      "p_98\n",
      "p_99\n",
      "p_100\n"
     ]
    }
   ],
   "source": [
    "for i in range(1 , 101):\n",
    "    try :\n",
    "        Path = \"C:/Users/USER/Desktop/stage ing/article 2020/dataset/val/\" # The path\n",
    "        files = [f for f in os.listdir(Path) if 'mask' in f] # The images without the masks \n",
    "        files.sort()\n",
    "        PathOut = 'val_1' # Path to save the new folders\n",
    "        Folder ='p_' + str(i) # The name of the folders \n",
    "        print(Folder)\n",
    "        if Folder not in os.listdir(PathOut):\n",
    "            os.mkdir(PathOut+'/' + Folder) # Create the folder if it does not exist\n",
    "        for f in files[(i-1)*100:100*i]: # Save the 100 image\n",
    "            MyImage = Image.open(Path + f); # Read the image\n",
    "            MyImage.save(PathOut +'/'+ Folder + \"/\" + f) # Save it in the new folder\n",
    "    except Exception as ex:\n",
    "        print(ex)"
   ]
  },
  {
   "cell_type": "code",
   "execution_count": null,
   "metadata": {},
   "outputs": [],
   "source": []
  }
 ],
 "metadata": {
  "kernelspec": {
   "display_name": "Python 3",
   "language": "python",
   "name": "python3"
  },
  "language_info": {
   "codemirror_mode": {
    "name": "ipython",
    "version": 3
   },
   "file_extension": ".py",
   "mimetype": "text/x-python",
   "name": "python",
   "nbconvert_exporter": "python",
   "pygments_lexer": "ipython3",
   "version": "3.7.6"
  }
 },
 "nbformat": 4,
 "nbformat_minor": 4
}
