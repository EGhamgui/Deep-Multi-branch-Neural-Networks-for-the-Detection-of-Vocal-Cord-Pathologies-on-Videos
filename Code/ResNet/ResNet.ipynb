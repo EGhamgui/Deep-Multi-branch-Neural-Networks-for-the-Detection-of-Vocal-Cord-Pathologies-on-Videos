{
  "nbformat": 4,
  "nbformat_minor": 0,
  "metadata": {
    "colab": {
      "name": "ResNet",
      "provenance": [],
      "collapsed_sections": [],
      "machine_shape": "hm"
    },
    "kernelspec": {
      "name": "python3",
      "display_name": "Python 3"
    },
    "accelerator": "GPU"
  },
  "cells": [
    {
      "cell_type": "code",
      "metadata": {
        "id": "88CavuIHRso0",
        "colab_type": "code",
        "colab": {
          "base_uri": "https://localhost:8080/",
          "height": 34
        },
        "outputId": "f54fcdac-2749-44e6-de3c-133eda56e213"
      },
      "source": [
        "from google.colab import drive  \n",
        "drive.mount('/content/drive')"
      ],
      "execution_count": 1,
      "outputs": [
        {
          "output_type": "stream",
          "text": [
            "Drive already mounted at /content/drive; to attempt to forcibly remount, call drive.mount(\"/content/drive\", force_remount=True).\n"
          ],
          "name": "stdout"
        }
      ]
    },
    {
      "cell_type": "code",
      "metadata": {
        "id": "wvsBHwMSiytw",
        "colab_type": "code",
        "colab": {
          "base_uri": "https://localhost:8080/",
          "height": 71
        },
        "outputId": "6e917e9c-58b4-4ec7-c04f-87d4d71b3516"
      },
      "source": [
        "import os, cv2, random\n",
        "import numpy as np\n",
        "from sklearn.metrics import confusion_matrix\n",
        "import seaborn as sns\n",
        "import pandas as pd\n",
        "import seaborn as sns\n",
        "import matplotlib.pyplot as plt\n",
        "from sklearn.model_selection import train_test_split\n",
        "from sklearn.metrics import classification_report\n",
        "from tqdm import tqdm\n",
        "from random import shuffle \n",
        "from IPython.display import SVG\n",
        "from keras.optimizers import SGD\n",
        "from keras.utils.vis_utils import model_to_dot\n",
        "from keras.utils import plot_model\n",
        "from tensorflow.python.keras.applications.resnet import ResNet50, preprocess_input\n",
        "from tensorflow.python.keras.models import Sequential\n",
        "from tensorflow.python.keras.layers import Dense, Flatten, GlobalAveragePooling2D,Dropout\n",
        "\n",
        "# ignore Deprecation Warning\n",
        "import warnings\n",
        "warnings.filterwarnings(\"ignore\", category=DeprecationWarning) \n",
        "\n",
        "np.random.seed(128)"
      ],
      "execution_count": 2,
      "outputs": [
        {
          "output_type": "stream",
          "text": [
            "/usr/local/lib/python3.6/dist-packages/statsmodels/tools/_testing.py:19: FutureWarning: pandas.util.testing is deprecated. Use the functions in the public API at pandas.testing instead.\n",
            "  import pandas.util.testing as tm\n"
          ],
          "name": "stderr"
        }
      ]
    },
    {
      "cell_type": "code",
      "metadata": {
        "id": "op2oCoTxnH-Z",
        "colab_type": "code",
        "colab": {}
      },
      "source": [
        "TEST_SIZE = 0.3\n",
        "RANDOM_STATE = 42\n",
        "SAMPLE_SIZE =2000\n",
        "IMG_SIZE = 256\n",
        "RESNET_WEIGHTS_PATH = '/content/drive/My Drive/resnet50_weights_tf_dim_ordering_tf_kernels.h5'"
      ],
      "execution_count": 3,
      "outputs": []
    },
    {
      "cell_type": "code",
      "metadata": {
        "id": "ZkXVsapMkgY1",
        "colab_type": "code",
        "colab": {
          "base_uri": "https://localhost:8080/",
          "height": 221
        },
        "outputId": "cf91014d-d0f1-4b5a-9ea0-898f4a463979"
      },
      "source": [
        "df = pd.read_excel ('/content/drive/My Drive/INFO_subjects_out.xlsx',index=None)\n",
        "df.set_index(['ID_P','ID_Cy'],inplace=True)\n",
        "df1=df.loc[df.state==1]\n",
        "df1['class'] = 0 # For healthy\n",
        "df1.loc[df1.diagnosis=='functional dysphonia','class']=1\n",
        "df1.loc[df1.diagnosis=='paresis','class']=2 # For paresis disease\n",
        "df1.loc[df1.diagnosis=='polyp','class']=3 # For polyp disease\n",
        "df1.loc[df1.diagnosis=='carcinoma','class']=4 # For carcinoma disease"
      ],
      "execution_count": 4,
      "outputs": [
        {
          "output_type": "stream",
          "text": [
            "/usr/local/lib/python3.6/dist-packages/ipykernel_launcher.py:4: SettingWithCopyWarning: \n",
            "A value is trying to be set on a copy of a slice from a DataFrame.\n",
            "Try using .loc[row_indexer,col_indexer] = value instead\n",
            "\n",
            "See the caveats in the documentation: https://pandas.pydata.org/pandas-docs/stable/user_guide/indexing.html#returning-a-view-versus-a-copy\n",
            "  after removing the cwd from sys.path.\n",
            "/usr/local/lib/python3.6/dist-packages/pandas/core/indexing.py:966: SettingWithCopyWarning: \n",
            "A value is trying to be set on a copy of a slice from a DataFrame.\n",
            "Try using .loc[row_indexer,col_indexer] = value instead\n",
            "\n",
            "See the caveats in the documentation: https://pandas.pydata.org/pandas-docs/stable/user_guide/indexing.html#returning-a-view-versus-a-copy\n",
            "  self.obj[item] = s\n"
          ],
          "name": "stderr"
        }
      ]
    },
    {
      "cell_type": "code",
      "metadata": {
        "id": "TiMkK-KfzOOb",
        "colab_type": "code",
        "colab": {
          "base_uri": "https://localhost:8080/",
          "height": 34
        },
        "outputId": "11de11dd-345d-44cd-acb8-414878516f72"
      },
      "source": [
        "#ch1 = ['/content/drive/My Drive/data_image/C_'+str(i)+'/' for i in range(1,729)]\n",
        "ch1 = ['/content/drive/My Drive/data_image/' + i + '/' for i in os.listdir('/content/drive/My Drive/data_image/')]\n",
        "k=-1\n",
        "data0=[]\n",
        "data1=[]\n",
        "data2=[]\n",
        "data3=[]\n",
        "data4=[]\n",
        "for x in ch1:\n",
        "\n",
        "  l = os.listdir(x)\n",
        "  k+=1\n",
        "  for j in range(len(l)):\n",
        "    img_p = x + l[j]\n",
        "    img = cv2.imread(img_p)\n",
        "    img = cv2.resize(img, (IMG_SIZE,IMG_SIZE))\n",
        "    val = df1.iloc[k]['class']\n",
        "    label=np.zeros(5)\n",
        "    label[val]=1\n",
        "    if val == 0 :\n",
        "      data0.append([np.array(img) , label])\n",
        "    if val == 1 :\n",
        "      data1.append([np.array(img) , label])\n",
        "    if val == 2 :\n",
        "      data2.append([np.array(img) , label])\n",
        "    if val == 3 :\n",
        "      data3.append([np.array(img) , label])\n",
        "    if val == 4 :\n",
        "      data4.append([np.array(img) , label])\n",
        "  \n",
        "data = data0[0:1241] + data1[0:1241] +data2[0:1241] +data3[0:1241] +data4[0:1241] \n",
        "np.random.shuffle(data)\n",
        "print(len(data))"
      ],
      "execution_count": 5,
      "outputs": [
        {
          "output_type": "stream",
          "text": [
            "6205\n"
          ],
          "name": "stdout"
        }
      ]
    },
    {
      "cell_type": "code",
      "metadata": {
        "id": "eY4efrSFp1rh",
        "colab_type": "code",
        "colab": {}
      },
      "source": [
        "  X, Y = [], []\n",
        "for x in data:\n",
        "    X.append(x[0])\n",
        "    Y.append(x[1])\n",
        "X = np.array(X).reshape(-1,256,256,3)\n",
        "Y = np.array(Y)"
      ],
      "execution_count": 6,
      "outputs": []
    },
    {
      "cell_type": "code",
      "metadata": {
        "id": "fBjn5Kcf2Ptv",
        "colab_type": "code",
        "colab": {}
      },
      "source": [
        "X_train, X_test, y_train, y_test = train_test_split(X, Y, test_size=TEST_SIZE, random_state=RANDOM_STATE)"
      ],
      "execution_count": 7,
      "outputs": []
    },
    {
      "cell_type": "code",
      "metadata": {
        "id": "aSo-7uz_2QaL",
        "colab_type": "code",
        "colab": {}
      },
      "source": [
        "X_train = preprocess_input(X_train)\n",
        "X_test = preprocess_input(X_test)"
      ],
      "execution_count": 8,
      "outputs": []
    },
    {
      "cell_type": "code",
      "metadata": {
        "id": "zMUT6LHSq6Bm",
        "colab_type": "code",
        "colab": {
          "base_uri": "https://localhost:8080/",
          "height": 51
        },
        "outputId": "c8ec6791-3fb7-45c0-d7f7-7d9dc86a334e"
      },
      "source": [
        "print(y_train.sum(axis=0))\n",
        "print(y_test.sum(axis=0))"
      ],
      "execution_count": 9,
      "outputs": [
        {
          "output_type": "stream",
          "text": [
            "[866. 861. 889. 869. 858.]\n",
            "[375. 380. 352. 372. 383.]\n"
          ],
          "name": "stdout"
        }
      ]
    },
    {
      "cell_type": "code",
      "metadata": {
        "id": "7H68pWYa1DBK",
        "colab_type": "code",
        "colab": {}
      },
      "source": [
        "#Instantiating ResNet50\n",
        "base_model_resnet = ResNet50(include_top=False,weights='imagenet',input_shape=(256,256,3),classes=5)\n",
        "base_model_resnet.trainable = True\n",
        "#Defining and Adding layers\n",
        "model_resnet=Sequential()\n",
        "model_resnet.add(base_model_resnet)\n",
        "model_resnet.add(Flatten())\n",
        "model_resnet.add(Dense(1024,activation=('relu'),input_dim=512))\n",
        "model_resnet.add(Dense(512,activation=('relu'))) \n",
        "model_resnet.add(Dropout(0.4))\n",
        "model_resnet.add(Dense(256,activation=('relu'))) \n",
        "model_resnet.add(Dropout(0.3))#Adding a dropout layer that will randomly drop 30% of the weights\n",
        "model_resnet.add(Dense(128,activation=('relu')))\n",
        "model_resnet.add(Dropout(0.2))\n",
        "model_resnet.add(Dense(5,activation=('softmax'))) #This is the classification layer"
      ],
      "execution_count": 10,
      "outputs": []
    },
    {
      "cell_type": "code",
      "metadata": {
        "id": "REfboDKE1e25",
        "colab_type": "code",
        "colab": {
          "base_uri": "https://localhost:8080/",
          "height": 493
        },
        "outputId": "b9396365-72df-400b-d59f-ea7956851975"
      },
      "source": [
        "batch_size= 100\n",
        "epochs=20\n",
        "learn_rate=0.001\n",
        "sgd=SGD(lr=learn_rate,momentum=.9,nesterov=False)\n",
        "#Compile\n",
        "model_resnet.compile(optimizer=sgd,loss='categorical_crossentropy',metrics=['accuracy'])\n",
        "model_resnet.summary()"
      ],
      "execution_count": 11,
      "outputs": [
        {
          "output_type": "stream",
          "text": [
            "Model: \"sequential\"\n",
            "_________________________________________________________________\n",
            "Layer (type)                 Output Shape              Param #   \n",
            "=================================================================\n",
            "resnet50 (Functional)        (None, 8, 8, 2048)        23587712  \n",
            "_________________________________________________________________\n",
            "flatten (Flatten)            (None, 131072)            0         \n",
            "_________________________________________________________________\n",
            "dense (Dense)                (None, 1024)              134218752 \n",
            "_________________________________________________________________\n",
            "dense_1 (Dense)              (None, 512)               524800    \n",
            "_________________________________________________________________\n",
            "dropout (Dropout)            (None, 512)               0         \n",
            "_________________________________________________________________\n",
            "dense_2 (Dense)              (None, 256)               131328    \n",
            "_________________________________________________________________\n",
            "dropout_1 (Dropout)          (None, 256)               0         \n",
            "_________________________________________________________________\n",
            "dense_3 (Dense)              (None, 128)               32896     \n",
            "_________________________________________________________________\n",
            "dropout_2 (Dropout)          (None, 128)               0         \n",
            "_________________________________________________________________\n",
            "dense_4 (Dense)              (None, 5)                 645       \n",
            "=================================================================\n",
            "Total params: 158,496,133\n",
            "Trainable params: 158,443,013\n",
            "Non-trainable params: 53,120\n",
            "_________________________________________________________________\n"
          ],
          "name": "stdout"
        }
      ]
    },
    {
      "cell_type": "code",
      "metadata": {
        "id": "NiBw7HR_2Kup",
        "colab_type": "code",
        "colab": {
          "base_uri": "https://localhost:8080/",
          "height": 697
        },
        "outputId": "22ecc3ff-8d71-4bc4-adea-47a379ffe146"
      },
      "source": [
        "train_model = model_resnet.fit(X_train, y_train,\n",
        "                  batch_size=batch_size,\n",
        "                  epochs=epochs, \n",
        "                  verbose=1)"
      ],
      "execution_count": 12,
      "outputs": [
        {
          "output_type": "stream",
          "text": [
            "Epoch 1/20\n",
            "44/44 [==============================] - 27s 620ms/step - loss: 1.6331 - accuracy: 0.3590\n",
            "Epoch 2/20\n",
            "44/44 [==============================] - 27s 609ms/step - loss: 1.2726 - accuracy: 0.4957\n",
            "Epoch 3/20\n",
            "44/44 [==============================] - 27s 610ms/step - loss: 1.1374 - accuracy: 0.5337\n",
            "Epoch 4/20\n",
            "44/44 [==============================] - 27s 609ms/step - loss: 1.0603 - accuracy: 0.5609\n",
            "Epoch 5/20\n",
            "44/44 [==============================] - 27s 610ms/step - loss: 0.9921 - accuracy: 0.5805\n",
            "Epoch 6/20\n",
            "44/44 [==============================] - 27s 610ms/step - loss: 0.9653 - accuracy: 0.5901\n",
            "Epoch 7/20\n",
            "44/44 [==============================] - 27s 609ms/step - loss: 0.8807 - accuracy: 0.6129\n",
            "Epoch 8/20\n",
            "44/44 [==============================] - 27s 609ms/step - loss: 0.8369 - accuracy: 0.6417\n",
            "Epoch 9/20\n",
            "44/44 [==============================] - 27s 610ms/step - loss: 0.7653 - accuracy: 0.6597\n",
            "Epoch 10/20\n",
            "44/44 [==============================] - 27s 610ms/step - loss: 0.6840 - accuracy: 0.7053\n",
            "Epoch 11/20\n",
            "44/44 [==============================] - 27s 609ms/step - loss: 0.6214 - accuracy: 0.7343\n",
            "Epoch 12/20\n",
            "44/44 [==============================] - 27s 610ms/step - loss: 0.5787 - accuracy: 0.7456\n",
            "Epoch 13/20\n",
            "44/44 [==============================] - 27s 609ms/step - loss: 0.5295 - accuracy: 0.7764\n",
            "Epoch 14/20\n",
            "44/44 [==============================] - 27s 609ms/step - loss: 0.4680 - accuracy: 0.8020\n",
            "Epoch 15/20\n",
            "44/44 [==============================] - 27s 609ms/step - loss: 0.4219 - accuracy: 0.8176\n",
            "Epoch 16/20\n",
            "44/44 [==============================] - 27s 609ms/step - loss: 0.3545 - accuracy: 0.8513\n",
            "Epoch 17/20\n",
            "44/44 [==============================] - 27s 609ms/step - loss: 0.3343 - accuracy: 0.8681\n",
            "Epoch 18/20\n",
            "44/44 [==============================] - 27s 610ms/step - loss: 0.2997 - accuracy: 0.8770\n",
            "Epoch 19/20\n",
            "44/44 [==============================] - 27s 609ms/step - loss: 0.2749 - accuracy: 0.8957\n",
            "Epoch 20/20\n",
            "44/44 [==============================] - 27s 609ms/step - loss: 0.2147 - accuracy: 0.9183\n"
          ],
          "name": "stdout"
        }
      ]
    },
    {
      "cell_type": "code",
      "metadata": {
        "id": "a3Swz8YC3nla",
        "colab_type": "code",
        "colab": {
          "base_uri": "https://localhost:8080/",
          "height": 34
        },
        "outputId": "472c0897-f5b6-4640-844e-edbf67427cc4"
      },
      "source": [
        "pred = model_resnet.predict (X_test)\n",
        "score= sum (np.argmax(pred,axis=1) == np.argmax(y_test,axis=1))\n",
        "score = score/len(y_test) \n",
        "print(round(score,3))"
      ],
      "execution_count": 13,
      "outputs": [
        {
          "output_type": "stream",
          "text": [
            "0.718\n"
          ],
          "name": "stdout"
        }
      ]
    },
    {
      "cell_type": "code",
      "metadata": {
        "id": "81GjwZukaBg0",
        "colab_type": "code",
        "colab": {
          "base_uri": "https://localhost:8080/",
          "height": 364
        },
        "outputId": "4259cf49-cd32-43a2-fc33-d444257f0d6f"
      },
      "source": [
        "y1 = np.argmax(pred,axis=1)\n",
        "y2 = np.argmax(y_test,axis=1)\n",
        "cm = confusion_matrix(y2, y1)\n",
        "cm = cm.astype('float') / cm.sum(axis=1) \n",
        "sns.heatmap(pd.DataFrame(cm*100,columns=['healthy','functional dysphonia','paresis','polyp','carcinoma'],index=['healthy','functional dysphonia','paresis','polyp','carcinoma']),\n",
        "            annot=True, vmin=0.0, vmax=100.0, fmt='.2f',cmap='Blues');"
      ],
      "execution_count": 14,
      "outputs": [
        {
          "output_type": "display_data",
          "data": {
            "image/png": "[encoded data removed]",
            "text/plain": [
              "<Figure size 432x288 with 2 Axes>"
            ]
          },
          "metadata": {
            "tags": [],
            "needs_background": "light"
          }
        }
      ]
    },
    {
      "cell_type": "code",
      "metadata": {
        "id": "mPvl17LHdg79",
        "colab_type": "code",
        "colab": {}
      },
      "source": [
        ""
      ],
      "execution_count": null,
      "outputs": []
    }
  ]
}