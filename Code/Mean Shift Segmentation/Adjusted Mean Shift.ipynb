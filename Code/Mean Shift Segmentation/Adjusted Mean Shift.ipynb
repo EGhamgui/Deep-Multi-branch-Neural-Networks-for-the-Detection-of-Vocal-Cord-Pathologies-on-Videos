{
 "cells": [
  {
   "cell_type": "code",
   "execution_count": 1,
   "metadata": {},
   "outputs": [],
   "source": [
    "import pandas as pd\n",
    "from PIL import Image\n",
    "import numpy as np \n",
    "import os\n",
    "import numpy as np\n",
    "import matplotlib.pyplot as plt\n",
    "import cv2\n",
    "import seaborn as sns\n",
    "from scipy.stats import norm\n",
    "from skimage import exposure\n",
    "from skimage import io, color,filters,feature\n",
    "import warnings\n",
    "warnings.filterwarnings(\"ignore\")\n",
    "import timeit"
   ]
  },
  {
   "cell_type": "code",
   "execution_count": 2,
   "metadata": {},
   "outputs": [],
   "source": [
    "def mean_shift(img, h=0.5, n=10):\n",
    "    H, W = img.shape[:2]\n",
    "    img1 = img.copy()\n",
    "    img2 = img.copy()\n",
    "    gif_arr = []\n",
    "    for i in range(n):\n",
    "        for y in range(H):\n",
    "            for x in range(W):\n",
    "                k = np.square((img1[y,x]-img1)/h).sum(-1)\n",
    "                k = np.exp(-k)\n",
    "                a = ((img1-img1[y,x]) * np.expand_dims(k,-1)).sum((0,1))\n",
    "                grad = a/k.sum()\n",
    "                img2[y,x] +=  grad\n",
    "                if x%20 == 0 and y%20==0:\n",
    "                    gif_arr.append((255*img2).astype(np.uint8))\n",
    "            print('Progress: {:.02f}{}'.format(100*(i*H+y+1)/n/H,'%'), end='\\r')\n",
    "        img1 = img2\n",
    "    return img1"
   ]
  },
  {
   "cell_type": "code",
   "execution_count": 3,
   "metadata": {},
   "outputs": [
    {
     "name": "stdout",
     "output_type": "stream",
     "text": [
      "Progress: 100.00%\r"
     ]
    },
    {
     "data": {
      "image/png": "[encoded data removed]",
      "text/plain": [
       "<Figure size 432x288 with 1 Axes>"
      ]
     },
     "metadata": {
      "needs_background": "light"
     },
     "output_type": "display_data"
    }
   ],
   "source": [
    "start =  timeit.default_timer()\n",
    "for taille in range(1,21):\n",
    "    \n",
    "    Path = 'C:/Users/USER/Desktop/stage ing/Stage ing partie 5/data_image/C_' + str(taille) + '/'\n",
    "    Path_g = 'C:/Users/USER/Desktop/stage ing/Stage ing partie 5/data_mask_binary/C_' + str(taille) + '/'\n",
    "    Path_out = 'C:/Users/USER/Desktop/stage ing/Stage ing partie 5/Meanshift/'\n",
    "    Path_out1 = 'C:/Users/USER/Desktop/stage ing/Stage ing partie 5/Meanshift/C_' + str(taille) + '/'\n",
    "    \n",
    "    l = os.listdir(Path)\n",
    "    n = 256\n",
    "    Sx = np.zeros((n,len(l)))\n",
    "    Sy = np.zeros((len(l),n))\n",
    "\n",
    "    for t in range(len(l)):\n",
    "        im = io.imread(Path_g +l[t], as_gray=True)\n",
    "        Ax = np.zeros(n)\n",
    "        Ay = np.zeros(n)\n",
    "        for y in range(n):\n",
    "            Ax += im[:,y]\n",
    "            Ay += im[y,:]\n",
    "        Ax = Ax /n\n",
    "        Ay = Ay /n\n",
    "        Sx[:,t]= Ax\n",
    "        Sy[t,:]= Ay\n",
    "    \n",
    "    AIVx =  np.zeros(n)\n",
    "    AIVy =  np.zeros(n)\n",
    "    for t in range(len(l)):\n",
    "        AIVx += Sx[:,t]\n",
    "        AIVy += Sy[t,:]\n",
    "    AIVx = AIVx / len(l)\n",
    "    AIVy = AIVy / len(l)\n",
    "\n",
    "    TIVx = np.zeros(n)\n",
    "    TIVy = np.zeros(n)\n",
    "    for t in range(len(l)):\n",
    "        TIVx += np.abs(Sx[:,t] - AIVx) \n",
    "        TIVy += np.abs(Sy[t,:] - AIVy) \n",
    "    TIVx = TIVx /len(l)\n",
    "    TIVx = TIVx.reshape(n)\n",
    "    TIVy = TIVy /len(l)\n",
    "    TIVy = TIVy.reshape(n)\n",
    "    \n",
    "    #if taille == 1 :\n",
    "        #ax = plt.plot(TIVx)\n",
    "        #ax= plt.plot(TIVy)\n",
    "        #plt.legend(['TIVx','TIVy'])\n",
    "        #plt.show()\n",
    "    \n",
    "    xx = np.where(TIVx > (max(TIVx)/4))\n",
    "    ptx1 = xx[0][0]\n",
    "    ptx2 = xx[0][-1]\n",
    "    yy = np.where(TIVy > (max(TIVy)/4))\n",
    "    pty1 = yy[0][0]\n",
    "    pty2 = yy[0][-1]\n",
    "    \n",
    "    #print(ptx1,ptx2,pty1,pty2)\n",
    "    #if Path_out1 not in os.listdir(Path_out): \n",
    "        #os.mkdir(Path_out1)\n",
    "\n",
    "    for t in range(len(l)):\n",
    "        im = Image.open(Path+l[t])\n",
    "        gt = sum(sum(np.array(Image.open(Path_g + l[t]))/256))\n",
    "        im = np.array(im)/255\n",
    "        im1=im[ptx1:ptx2,pty1:pty2,:]\n",
    "        im2 =  mean_shift(im1, h=0.03, n=15)\n",
    "        im2 = color.rgb2gray(im2)\n",
    "        img22 = np.zeros((im2.shape[0],im2.shape[1]))\n",
    "        img21 = np.zeros((im2.shape[0],im2.shape[1]))\n",
    "        val = pd.DataFrame(plt.hist(im2.ravel())).T.sort_values([0],ascending=False).head(2)[1].unique()\n",
    "        val1 =val[0]\n",
    "        val2 =val[1]\n",
    "        count1=0\n",
    "        count2=0 \n",
    "        \n",
    "        for i in range(im2.shape[0]):\n",
    "            for j in range(im2.shape[1]):\n",
    "                if (im2[i,j]<=val1):\n",
    "                    count1+=1\n",
    "                    img21[i,j]=255\n",
    "                if (im2[i,j]<=val2):\n",
    "                    count2+=1\n",
    "                    img22[i,j]=255\n",
    "\n",
    "        if (abs(gt-count1)>abs(gt-count2)):\n",
    "            img2 = img22\n",
    "        else:\n",
    "            img2 = img21\n",
    "            \n",
    "        im3= np.zeros((n,n))\n",
    "        im3[ptx1:ptx2,pty1:pty2]=img2\n",
    "        #plt.imshow(im3,cmap='gray')\n",
    "        im3 = Image.fromarray(im3.astype(np.uint8))\n",
    "        #im3.save(Path_out1 + l[t])\n",
    "        #plt.show()"
   ]
  },
  {
   "cell_type": "code",
   "execution_count": 4,
   "metadata": {},
   "outputs": [],
   "source": [
    "end = timeit.default_timer()"
   ]
  },
  {
   "cell_type": "code",
   "execution_count": 7,
   "metadata": {},
   "outputs": [
    {
     "data": {
      "text/plain": [
       "50.315"
      ]
     },
     "execution_count": 7,
     "metadata": {},
     "output_type": "execute_result"
    }
   ],
   "source": [
    "round((end - start)/20,3)"
   ]
  },
  {
   "cell_type": "code",
   "execution_count": null,
   "metadata": {},
   "outputs": [],
   "source": []
  }
 ],
 "metadata": {
  "kernelspec": {
   "display_name": "Python 3",
   "language": "python",
   "name": "python3"
  },
  "language_info": {
   "codemirror_mode": {
    "name": "ipython",
    "version": 3
   },
   "file_extension": ".py",
   "mimetype": "text/x-python",
   "name": "python",
   "nbconvert_exporter": "python",
   "pygments_lexer": "ipython3",
   "version": "3.7.6"
  }
 },
 "nbformat": 4,
 "nbformat_minor": 4
}
